{
 "cells": [
  {
   "cell_type": "code",
   "execution_count": null,
   "metadata": {},
   "outputs": [],
   "source": [
    "from torch.utils.data import Dataset"
   ]
  },
  {
   "cell_type": "code",
   "execution_count": null,
   "metadata": {},
   "outputs": [],
   "source": [
    "class UrbanSoundDataset(Dataset):\n",
    "    \n",
    "    def __init__(self, annotations_file, audio_dir):\n",
    "        pass\n",
    "    \n",
    "    # Method to use Len syntax\n",
    "    # len(object)\n",
    "    def __len__(self):\n",
    "        pass\n",
    "\n",
    "    # (under hood using get item) ex: a_list[1] -> a_list.__getitem__(1) \n",
    "    def __getitem__(self, idx):\n",
    "        pass\n",
    "\n"
   ]
  }
 ],
 "metadata": {
  "language_info": {
   "name": "python"
  }
 },
 "nbformat": 4,
 "nbformat_minor": 2
}

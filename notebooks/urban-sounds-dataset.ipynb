{
 "cells": [
  {
   "cell_type": "code",
   "execution_count": 1,
   "metadata": {
    "metadata": {}
   },
   "outputs": [],
   "source": [
    "import os\n",
    "import torch\n",
    "from torch.utils.data import Dataset\n",
    "import pandas as pd\n",
    "import torchaudio"
   ]
  },
  {
   "cell_type": "code",
   "execution_count": 2,
   "metadata": {
    "metadata": {}
   },
   "outputs": [],
   "source": [
    "class UrbanSoundDataset(Dataset):\n",
    "    # Constructor\n",
    "    def __init__(self, annotations_file, audio_dir, transformation, target_sample_rate, num_samples):\n",
    "        self.annotations = pd.read_csv(annotations_file)\n",
    "        self.audio_dir = audio_dir\n",
    "        self.transformation = transformation\n",
    "        self.target_sample_rate = target_sample_rate\n",
    "        self.num_samples = num_samples\n",
    "    \n",
    "\n",
    "    def __len__(self):\n",
    "        # return the number of samples in dataset\n",
    "        return len(self.annotations)\n",
    "\n",
    "    # (under hood using get item) ex: a_list[1] -> a_list.__getitem__(1) \n",
    "    def __getitem__(self, index):\n",
    "        audio_sample_path = self._get_audio_sample_path(index)\n",
    "        label = self._get_audio_sample_label(index)\n",
    "        # Load in the audio file as signal:\n",
    "        signal, sr = torchaudio.load(audio_sample_path)\n",
    "        # Resample the signal if needed:\n",
    "        signal = self._resample_if_necessary(signal, sr)\n",
    "        # Transform the signal to mono for Spectrogram if needed:\n",
    "        signal = self._mono_if_necessary(signal)\n",
    "        # Cut the signal length if necessary (only handling signals with length >= num_samples):\n",
    "        signal = self._cut_if_necessary(signal)\n",
    "        # add padding if necessary:\n",
    "        signal = self._add_padding_if_necessary(signal)\n",
    "        # Pass the signal to the transformation (MelSpectrogram):\n",
    "        signal = self.transformation(signal)\n",
    "        return signal, label\n",
    "\n",
    "\n",
    "    def _cut_if_necessary(self, signal):\n",
    "        # signal -> Tensor -> (1, num_samples) -> (1, 50000) -> (1, 22050) # First 22050 samples of audio\n",
    "        if signal.shape[1] > self.num_samples:\n",
    "            signal = signal[:, :self.num_samples]\n",
    "        return signal\n",
    "\n",
    "    def _add_padding_if_necessary(self, signal):\n",
    "        length_signal = signal.shape[1]\n",
    "        if length_signal < self.num_samples:\n",
    "            num_missing_samples = self.num_samples - length_signal\n",
    "            last_dim_padding = (0, num_missing_samples)\n",
    "            signal = torch.nn.functional.pad(signal, last_dim_padding)\n",
    "        return signal\n",
    "\n",
    "    def _resample_if_necessary(self, signal, sr):\n",
    "        if sr != self.target_sample_rate:\n",
    "            resampler = torchaudio.transforms.Resample(sr, self.target_sample_rate)\n",
    "            signal = resampler(signal)\n",
    "        return signal\n",
    "    \n",
    "    def _mono_if_necessary(self, signal):\n",
    "        if signal.shape[0] > 1:\n",
    "            signal = signal.mean(dim=0, keepdim=True)\n",
    "        return signal\n",
    "\n",
    "    # indexes below refer to the columns in the annotations file (.csv)\n",
    "    def _get_audio_sample_path(self, index):\n",
    "        fold = f\"fold{self.annotations.iloc[index, 5]}\"\n",
    "        path = os.path.join(self.audio_dir, fold, self.annotations.iloc[index, 0])\n",
    "        return path\n",
    "\n",
    "    def _get_audio_sample_label(self, index):\n",
    "        return self.annotations.iloc[index, 6]\n"
   ]
  },
  {
   "cell_type": "code",
   "execution_count": 4,
   "metadata": {
    "editable": true,
    "metadata": {},
    "slideshow": {
     "slide_type": ""
    },
    "tags": []
   },
   "outputs": [
    {
     "name": "stdout",
     "output_type": "stream",
     "text": [
      "Using the cuda device\n",
      "there are 8732 samples in the dataset\n"
     ]
    }
   ],
   "source": [
    "if __name__ == \"__main__\":\n",
    "    ANNOTATIONS_FILE = \"UrbanSound8K/metadata/UrbanSound8K.csv\"\n",
    "    AUDIO_DIR = \"UrbanSound8K/audio/\"\n",
    "    SAMPLE_RATE = 22050\n",
    "    # Number of Samples we want to process\n",
    "    NUM_SAMPLES = 22050\n",
    "    \n",
    "    if torch.cuda.is_available():\n",
    "        device = \"cuda\"\n",
    "    else:\n",
    "        device = \"cpu\"\n",
    "    print (f\"Using the {device} device\")  \n",
    "\n",
    "    # calling for mel spectrogram from PyTorch Transforms\n",
    "    mel_spectrogram = torchaudio.transforms.MelSpectrogram(sample_rate=SAMPLE_RATE, n_fft=1024, hop_length=512, n_mels=64)\n",
    "\n",
    "    usd = UrbanSoundDataset(ANNOTATIONS_FILE, AUDIO_DIR, mel_spectrogram, SAMPLE_RATE, NUM_SAMPLES)\n",
    "\n",
    "    print(f\"there are {len(usd)} samples in the dataset\")\n",
    "    signal, label = usd[0]\n"
   ]
  }
 ],
 "metadata": {
  "kernelspec": {
   "display_name": "pytorch-kernel",
   "language": "python",
   "name": "pytorch-kernel"
  },
  "language_info": {
   "codemirror_mode": {
    "name": "ipython",
    "version": 3
   },
   "file_extension": ".py",
   "mimetype": "text/x-python",
   "name": "python",
   "nbconvert_exporter": "python",
   "pygments_lexer": "ipython3",
   "version": "3.11.2"
  }
 },
 "nbformat": 4,
 "nbformat_minor": 4
}

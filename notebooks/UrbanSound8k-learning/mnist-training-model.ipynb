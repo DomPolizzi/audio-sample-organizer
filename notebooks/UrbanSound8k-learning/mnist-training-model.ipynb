{
 "cells": [
  {
   "cell_type": "code",
   "execution_count": null,
   "id": "db4f936d-c9cd-4947-a244-3f6e3e85f0b2",
   "metadata": {
    "metadata": {}
   },
   "outputs": [],
   "source": [
    "import torch\n",
    "from torch import nn\n",
    "from torch.utils.data import DataLoader\n",
    "from torchvision import datasets\n",
    "from torchvision.transforms import ToTensor\n",
    "\n",
    "BATCH_SIZE = 128\n",
    "EPOCHS = 10\n",
    "LEARNING_RATE = .001"
   ]
  },
  {
   "cell_type": "markdown",
   "id": "4ee212c4",
   "metadata": {},
   "source": [
    "### Model:"
   ]
  },
  {
   "cell_type": "code",
   "execution_count": null,
   "id": "108673af-4c23-4372-91c6-df0db24be1ec",
   "metadata": {
    "metadata": {}
   },
   "outputs": [],
   "source": [
    "class FeedForwardNet(nn.Module):\n",
    "\n",
    "    def __init__(self):\n",
    "        super().__init__()\n",
    "        self.flatten = nn.Flatten()\n",
    "        self.dense_layers = nn.Sequential(\n",
    "            nn.Linear(28*28, 256),\n",
    "            nn.ReLU(),\n",
    "            nn.Linear(256, 10)\n",
    "        )\n",
    "        self.softmax = nn.Softmax(dim=1)\n",
    "\n",
    "    def forward(self, input_data):\n",
    "        flattened_data = self.flatten(input_data)\n",
    "        logits = self.dense_layers(flattened_data)\n",
    "        predictions = self.softmax(logits)\n",
    "        return predictions"
   ]
  },
  {
   "cell_type": "markdown",
   "id": "d5ebbd08-172a-4353-8464-aa98a82a2402",
   "metadata": {},
   "source": [
    "1. Download Dataset\n",
    "   - Using 2 datasets: `train_data` will be the training data from PyTorch\n",
    "     - `MNIST` is a datasetclass"
   ]
  },
  {
   "cell_type": "code",
   "execution_count": null,
   "id": "e2880e1f-b37e-4367-9a9e-d967a91f9422",
   "metadata": {
    "metadata": {}
   },
   "outputs": [],
   "source": [
    "def download_mnist_datasets():\n",
    "    train_data = datasets.MNIST(\n",
    "        root=\"data\",\n",
    "        download=True,\n",
    "        train=True,\n",
    "        transform=ToTensor()\n",
    "    )\n",
    "    validation_data = datasets.MNIST(\n",
    "        root=\"data\",\n",
    "        download=True,\n",
    "        train=False,\n",
    "        transform=ToTensor()\n",
    "    )\n",
    "    return train_data, validation_data"
   ]
  },
  {
   "cell_type": "markdown",
   "id": "8c728b4d",
   "metadata": {},
   "source": [
    "#### Train model:"
   ]
  },
  {
   "cell_type": "code",
   "execution_count": null,
   "id": "3090fe25",
   "metadata": {
    "metadata": {}
   },
   "outputs": [],
   "source": [
    "# Training Epoch of our Model:\n",
    "def train_one_epoch(model, data_loader, loss_fn, optimiser, device):\n",
    "    # Loop through all the samples in dataset, in every iteration, we get a new batch of samples\n",
    "    for inputs, targets in data_loader:\n",
    "        inputs, targets = inputs.to(device), targets.to(device)\n",
    "\n",
    "        # Calculate the loss\n",
    "        predictions = model(inputs)\n",
    "        loss = loss_fn(predictions, targets)\n",
    "        # backpropagate the loss and update the model weights\n",
    "        optimiser.zero_grad()\n",
    "        loss.backward()\n",
    "        optimiser.step()\n",
    "    print(f\"Loss: {loss.item()}\")\n",
    "    "
   ]
  },
  {
   "cell_type": "code",
   "execution_count": null,
   "id": "349559ec",
   "metadata": {
    "metadata": {}
   },
   "outputs": [],
   "source": [
    "# Higher Level Function which will call the train_one_epoch function for multiple epochs:\n",
    "def train(model, data_loader, loss_fn, optimiser, device, epochs):\n",
    "    for i in range(epochs):\n",
    "        print(f\"Epoch {i+1}\")\n",
    "        train_one_epoch(model, data_loader, loss_fn, optimiser, device)\n",
    "        print(\"---------------------------\")\n",
    "    print(\"Finished Training\")"
   ]
  },
  {
   "cell_type": "code",
   "execution_count": null,
   "id": "a074978c-9bf5-48ec-8c6b-afcf3a5d67ef",
   "metadata": {
    "metadata": {}
   },
   "outputs": [],
   "source": [
    "if __name__ == \"__main__\":\n",
    "    #Download MNIST data\n",
    "    train_data, _ = download_mnist_datasets()\n",
    "    print(\"Downloading MNIST Dataset Complete\")\n",
    "    \n",
    "    # Create a data loader for the train_data\n",
    "    train_data_loader = DataLoader(train_data, batch_size=BATCH_SIZE)\n",
    "    \n",
    "    # Check if GPU ACC is available\n",
    "    if torch.cuda.is_available():\n",
    "        device = \"cuda\"\n",
    "    else:\n",
    "        device = \"cpu\"\n",
    "    print (f\"Using the {device} device\")   \n",
    "    \n",
    "    # Build Model\n",
    "    feed_forward_net = FeedForwardNet().to(device)\n",
    "\n",
    "    # instantiate loss function and optimizer\n",
    "    loss_fn = nn.CrossEntropyLoss()\n",
    "    optimiser = torch.optim.Adam(feed_forward_net.parameters(), lr=LEARNING_RATE)\n",
    "\n",
    "    # Train Model:\n",
    "    train(feed_forward_net, train_data_loader, loss_fn, optimiser, device, EPOCHS)\n",
    "\n",
    "    # Save Model:\n",
    "    torch.save(feed_forward_net.state_dict(), \"trained-models/feedforwardnet.pth\")\n",
    "    print(\"Model trained and stored in feedforwardnet.pth\")"
   ]
  }
 ],
 "metadata": {
  "kernelspec": {
   "display_name": "pytorch-kernel",
   "language": "python",
   "name": "pytorch-kernel"
  },
  "language_info": {
   "codemirror_mode": {
    "name": "ipython",
    "version": 3
   },
   "file_extension": ".py",
   "mimetype": "text/x-python",
   "name": "python",
   "nbconvert_exporter": "python",
   "pygments_lexer": "ipython3",
   "version": "3.11.2"
  }
 },
 "nbformat": 4,
 "nbformat_minor": 5
}

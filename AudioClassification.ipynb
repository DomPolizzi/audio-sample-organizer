{
 "cells": [
  {
   "cell_type": "markdown",
   "id": "8d6bdd9f-3c5a-404f-9b87-6e7710a05c7e",
   "metadata": {},
   "source": [
    "# SETUP:"
   ]
  },
  {
   "cell_type": "code",
   "execution_count": null,
   "id": "27e967e1-9c95-4a08-87ab-13506f3e70bc",
   "metadata": {},
   "outputs": [],
   "source": [
    "%pip install --upgrade pip setuptools wheel"
   ]
  },
  {
   "cell_type": "markdown",
   "id": "0197ea40-0377-4a90-b64b-ec809b2804d1",
   "metadata": {},
   "source": [
    "### Sanity Test:"
   ]
  },
  {
   "cell_type": "code",
   "execution_count": null,
   "id": "05378353-d582-4a95-a4f0-3cc476adef65",
   "metadata": {},
   "outputs": [],
   "source": [
    "import sys\n",
    "print(\"verifying use of Virtual Environment:\")\n",
    "print(sys.executable)\n"
   ]
  },
  {
   "cell_type": "markdown",
   "id": "4eaf67c5-88dd-4c58-9537-4345e60d42e2",
   "metadata": {},
   "source": [
    "## Install Dependecies"
   ]
  },
  {
   "cell_type": "code",
   "execution_count": null,
   "id": "761080a0-e207-4fb9-95de-db96679c90d6",
   "metadata": {},
   "outputs": [],
   "source": [
    "%pip install matplotlib tensorflow-io tensorflow"
   ]
  },
  {
   "cell_type": "markdown",
   "id": "b3efd9ca-1dd2-4b90-b521-a93ff8d65481",
   "metadata": {},
   "source": [
    "## Import and Set Libraries"
   ]
  },
  {
   "cell_type": "code",
   "execution_count": null,
   "id": "7242f209-e072-4416-acfa-8d147acb2f5c",
   "metadata": {
    "editable": true,
    "slideshow": {
     "slide_type": ""
    },
    "tags": []
   },
   "outputs": [],
   "source": [
    "import os\n",
    "import sys\n",
    "from matplotlib import pyplot as plt\n",
    "import tensorflow as tf\n",
    "import tensorflow_io as tfio"
   ]
  },
  {
   "cell_type": "markdown",
   "id": "8167f288-5444-4635-9a2c-03dc0d225e51",
   "metadata": {},
   "source": [
    "## Define Paths to Files"
   ]
  },
  {
   "cell_type": "code",
   "execution_count": null,
   "id": "24d6e450-5470-48d5-81db-ca24c8eac35b",
   "metadata": {},
   "outputs": [],
   "source": [
    "# Data we want to use as a specific, yes (1), this is a Kick\n",
    "KICK_FILE = os.path.join('data', 'parsed', 'Kicks', '309_kicks1_001.wav')\n",
    "# Data we want to use as a specific, NO (0), this is not a Kick\n",
    "NOT_KICK = os.path.join('data', 'parsed', 'Synth-plucks', 'Voice-pluck-C1.wav')"
   ]
  }
 ],
 "metadata": {
  "kernelspec": {
   "display_name": "audio-python3-kernel",
   "language": "python",
   "name": "audio-python3-kernel"
  }
 },
 "nbformat": 4,
 "nbformat_minor": 5
}

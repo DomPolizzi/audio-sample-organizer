{
 "cells": [
  {
   "cell_type": "markdown",
   "id": "dda272a5",
   "metadata": {},
   "source": [
    "# SETUP:"
   ]
  },
  {
   "cell_type": "code",
   "execution_count": null,
   "id": "4eaf67c5-88dd-4c58-9537-4345e60d42e2",
   "metadata": {},
   "outputs": [],
   "source": [
    "%pip install --upgrade pip setuptools wheel"
   ]
  },
  {
   "cell_type": "markdown",
   "id": "b3a75fdb",
   "metadata": {},
   "source": [
    "### Sanity Test:"
   ]
  },
  {
   "cell_type": "code",
   "execution_count": null,
   "id": "ba167d6b",
   "metadata": {},
   "outputs": [],
   "source": [
    "import sys\n",
    "print(\"verifying use of Virtual Environment:\")\n",
    "print(sys.executable)"
   ]
  },
  {
   "cell_type": "markdown",
   "id": "e19599a2",
   "metadata": {},
   "source": [
    "## Install Dependecies:"
   ]
  },
  {
   "cell_type": "code",
   "execution_count": null,
   "id": "dc7431e8",
   "metadata": {},
   "outputs": [],
   "source": [
    "%pip install matplotlib tensorflow-io tensorflow"
   ]
  },
  {
   "cell_type": "markdown",
   "id": "f871a4f4",
   "metadata": {},
   "source": [
    "## Import and Set Libraries"
   ]
  },
  {
   "cell_type": "code",
   "execution_count": null,
   "id": "7242f209-e072-4416-acfa-8d147acb2f5c",
   "metadata": {},
   "outputs": [],
   "source": [
    "import os\n",
    "import sys\n",
    "from matplotlib import pyplot as plt\n",
    "import tensorflow as tf\n",
    "import tensorflow_io as tfio"
   ]
  },
  {
   "cell_type": "markdown",
   "id": "8167f288-5444-4635-9a2c-03dc0d225e51",
   "metadata": {},
   "source": [
    "## Define Paths to Files"
   ]
  },
  {
   "cell_type": "code",
   "execution_count": null,
   "id": "24d6e450-5470-48d5-81db-ca24c8eac35b",
   "metadata": {},
   "outputs": [],
   "source": [
    "# Data we want to use as a specific, yes (1), this is a Kick\n",
    "KICK_FILE = os.path.join('data', 'parsed', 'Kicks', '309_kicks1_001.wav')\n",
    "# Data we want to use as a specific, NO (0), this is not a Kick\n",
    "NOT_KICK = os.path.join('data', 'parsed', 'Synth-plucks', 'Voice-pluck-C1.wav')"
   ]
  }
 ],
 "metadata": {
  "kernelspec": {
   "display_name": "Python 3 (ipykernel)",
   "language": "python",
   "name": "python3"
  },
  "language_info": {
   "codemirror_mode": {
    "name": "ipython",
    "version": 3
   },
   "file_extension": ".py",
   "mimetype": "text/x-python",
   "name": "python",
   "nbconvert_exporter": "python",
   "pygments_lexer": "ipython3",
   "version": "3.11.2"
  }
 },
 "nbformat": 4,
 "nbformat_minor": 5
}

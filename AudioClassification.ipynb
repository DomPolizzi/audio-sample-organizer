{
 "cells": [
  {
   "cell_type": "markdown",
   "id": "8d6bdd9f-3c5a-404f-9b87-6e7710a05c7e",
   "metadata": {},
   "source": [
    "# SETUP:"
   ]
  },
  {
   "cell_type": "code",
   "execution_count": 5,
   "id": "27e967e1-9c95-4a08-87ab-13506f3e70bc",
   "metadata": {},
   "outputs": [
    {
     "name": "stdout",
     "output_type": "stream",
     "text": [
      "Requirement already satisfied: pip in /home/renegade/Dev/jupyter/notebookenv/lib/python3.11/site-packages (24.0)\n",
      "Requirement already satisfied: setuptools in /home/renegade/Dev/jupyter/notebookenv/lib/python3.11/site-packages (69.5.1)\n",
      "Requirement already satisfied: wheel in /home/renegade/Dev/jupyter/notebookenv/lib/python3.11/site-packages (0.43.0)\n",
      "Note: you may need to restart the kernel to use updated packages.\n"
     ]
    }
   ],
   "source": [
    "%pip install --upgrade pip setuptools wheel"
   ]
  },
  {
   "cell_type": "markdown",
   "id": "0197ea40-0377-4a90-b64b-ec809b2804d1",
   "metadata": {},
   "source": [
    "### Sanity Test:"
   ]
  },
  {
   "cell_type": "code",
   "execution_count": 2,
   "id": "05378353-d582-4a95-a4f0-3cc476adef65",
   "metadata": {},
   "outputs": [
    {
     "name": "stdout",
     "output_type": "stream",
     "text": [
      "verifying use of Virtual Environment:\n",
      "/home/renegade/Dev/jupyter/notebookenv/bin/python\n"
     ]
    }
   ],
   "source": [
    "import sys\n",
    "print(\"verifying use of Virtual Environment:\")\n",
    "print(sys.executable)\n"
   ]
  },
  {
   "cell_type": "markdown",
   "id": "4eaf67c5-88dd-4c58-9537-4345e60d42e2",
   "metadata": {},
   "source": [
    "## Install Dependecies"
   ]
  },
  {
   "cell_type": "code",
   "execution_count": 17,
   "id": "761080a0-e207-4fb9-95de-db96679c90d6",
   "metadata": {},
   "outputs": [
    {
     "name": "stdout",
     "output_type": "stream",
     "text": [
      "Requirement already satisfied: matplotlib in /home/renegade/Dev/jupyter/notebookenv/lib/python3.11/site-packages (3.8.4)\n",
      "Requirement already satisfied: tensorflow-io in /home/renegade/Dev/jupyter/notebookenv/lib/python3.11/site-packages (0.36.0)\n",
      "Collecting tensorflow-io\n",
      "  Downloading tensorflow_io-0.37.0-cp311-cp311-manylinux_2_17_x86_64.manylinux2014_x86_64.whl.metadata (14 kB)\n",
      "Requirement already satisfied: tensorflow in /home/renegade/Dev/jupyter/notebookenv/lib/python3.11/site-packages (2.16.1)\n",
      "Requirement already satisfied: contourpy>=1.0.1 in /home/renegade/Dev/jupyter/notebookenv/lib/python3.11/site-packages (from matplotlib) (1.2.1)\n",
      "Requirement already satisfied: cycler>=0.10 in /home/renegade/Dev/jupyter/notebookenv/lib/python3.11/site-packages (from matplotlib) (0.12.1)\n",
      "Requirement already satisfied: fonttools>=4.22.0 in /home/renegade/Dev/jupyter/notebookenv/lib/python3.11/site-packages (from matplotlib) (4.51.0)\n",
      "Requirement already satisfied: kiwisolver>=1.3.1 in /home/renegade/Dev/jupyter/notebookenv/lib/python3.11/site-packages (from matplotlib) (1.4.5)\n",
      "Requirement already satisfied: numpy>=1.21 in /home/renegade/Dev/jupyter/notebookenv/lib/python3.11/site-packages (from matplotlib) (1.26.4)\n",
      "Requirement already satisfied: packaging>=20.0 in /home/renegade/Dev/jupyter/notebookenv/lib/python3.11/site-packages (from matplotlib) (24.0)\n",
      "Requirement already satisfied: pillow>=8 in /home/renegade/Dev/jupyter/notebookenv/lib/python3.11/site-packages (from matplotlib) (10.3.0)\n",
      "Requirement already satisfied: pyparsing>=2.3.1 in /home/renegade/Dev/jupyter/notebookenv/lib/python3.11/site-packages (from matplotlib) (3.1.2)\n",
      "Requirement already satisfied: python-dateutil>=2.7 in /home/renegade/Dev/jupyter/notebookenv/lib/python3.11/site-packages (from matplotlib) (2.9.0.post0)\n",
      "Collecting tensorflow-io-gcs-filesystem==0.37.0 (from tensorflow-io)\n",
      "  Downloading tensorflow_io_gcs_filesystem-0.37.0-cp311-cp311-manylinux_2_17_x86_64.manylinux2014_x86_64.whl.metadata (14 kB)\n",
      "Requirement already satisfied: absl-py>=1.0.0 in /home/renegade/Dev/jupyter/notebookenv/lib/python3.11/site-packages (from tensorflow) (2.1.0)\n",
      "Requirement already satisfied: astunparse>=1.6.0 in /home/renegade/Dev/jupyter/notebookenv/lib/python3.11/site-packages (from tensorflow) (1.6.3)\n",
      "Requirement already satisfied: flatbuffers>=23.5.26 in /home/renegade/Dev/jupyter/notebookenv/lib/python3.11/site-packages (from tensorflow) (24.3.25)\n",
      "Requirement already satisfied: gast!=0.5.0,!=0.5.1,!=0.5.2,>=0.2.1 in /home/renegade/Dev/jupyter/notebookenv/lib/python3.11/site-packages (from tensorflow) (0.5.4)\n",
      "Requirement already satisfied: google-pasta>=0.1.1 in /home/renegade/Dev/jupyter/notebookenv/lib/python3.11/site-packages (from tensorflow) (0.2.0)\n",
      "Requirement already satisfied: h5py>=3.10.0 in /home/renegade/Dev/jupyter/notebookenv/lib/python3.11/site-packages (from tensorflow) (3.11.0)\n",
      "Requirement already satisfied: libclang>=13.0.0 in /home/renegade/Dev/jupyter/notebookenv/lib/python3.11/site-packages (from tensorflow) (18.1.1)\n",
      "Requirement already satisfied: ml-dtypes~=0.3.1 in /home/renegade/Dev/jupyter/notebookenv/lib/python3.11/site-packages (from tensorflow) (0.3.2)\n",
      "Requirement already satisfied: opt-einsum>=2.3.2 in /home/renegade/Dev/jupyter/notebookenv/lib/python3.11/site-packages (from tensorflow) (3.3.0)\n",
      "Requirement already satisfied: protobuf!=4.21.0,!=4.21.1,!=4.21.2,!=4.21.3,!=4.21.4,!=4.21.5,<5.0.0dev,>=3.20.3 in /home/renegade/Dev/jupyter/notebookenv/lib/python3.11/site-packages (from tensorflow) (4.25.3)\n",
      "Requirement already satisfied: requests<3,>=2.21.0 in /home/renegade/Dev/jupyter/notebookenv/lib/python3.11/site-packages (from tensorflow) (2.31.0)\n",
      "Requirement already satisfied: setuptools in /home/renegade/Dev/jupyter/notebookenv/lib/python3.11/site-packages (from tensorflow) (69.5.1)\n",
      "Requirement already satisfied: six>=1.12.0 in /home/renegade/Dev/jupyter/notebookenv/lib/python3.11/site-packages (from tensorflow) (1.16.0)\n",
      "Requirement already satisfied: termcolor>=1.1.0 in /home/renegade/Dev/jupyter/notebookenv/lib/python3.11/site-packages (from tensorflow) (2.4.0)\n",
      "Requirement already satisfied: typing-extensions>=3.6.6 in /home/renegade/Dev/jupyter/notebookenv/lib/python3.11/site-packages (from tensorflow) (4.11.0)\n",
      "Requirement already satisfied: wrapt>=1.11.0 in /home/renegade/Dev/jupyter/notebookenv/lib/python3.11/site-packages (from tensorflow) (1.16.0)\n",
      "Requirement already satisfied: grpcio<2.0,>=1.24.3 in /home/renegade/Dev/jupyter/notebookenv/lib/python3.11/site-packages (from tensorflow) (1.62.2)\n",
      "Requirement already satisfied: tensorboard<2.17,>=2.16 in /home/renegade/Dev/jupyter/notebookenv/lib/python3.11/site-packages (from tensorflow) (2.16.2)\n",
      "Requirement already satisfied: keras>=3.0.0 in /home/renegade/Dev/jupyter/notebookenv/lib/python3.11/site-packages (from tensorflow) (3.2.1)\n",
      "Requirement already satisfied: wheel<1.0,>=0.23.0 in /home/renegade/Dev/jupyter/notebookenv/lib/python3.11/site-packages (from astunparse>=1.6.0->tensorflow) (0.43.0)\n",
      "Requirement already satisfied: rich in /home/renegade/Dev/jupyter/notebookenv/lib/python3.11/site-packages (from keras>=3.0.0->tensorflow) (13.7.1)\n",
      "Requirement already satisfied: namex in /home/renegade/Dev/jupyter/notebookenv/lib/python3.11/site-packages (from keras>=3.0.0->tensorflow) (0.0.8)\n",
      "Requirement already satisfied: optree in /home/renegade/Dev/jupyter/notebookenv/lib/python3.11/site-packages (from keras>=3.0.0->tensorflow) (0.11.0)\n",
      "Requirement already satisfied: charset-normalizer<4,>=2 in /home/renegade/Dev/jupyter/notebookenv/lib/python3.11/site-packages (from requests<3,>=2.21.0->tensorflow) (3.3.2)\n",
      "Requirement already satisfied: idna<4,>=2.5 in /home/renegade/Dev/jupyter/notebookenv/lib/python3.11/site-packages (from requests<3,>=2.21.0->tensorflow) (3.7)\n",
      "Requirement already satisfied: urllib3<3,>=1.21.1 in /home/renegade/Dev/jupyter/notebookenv/lib/python3.11/site-packages (from requests<3,>=2.21.0->tensorflow) (2.2.1)\n",
      "Requirement already satisfied: certifi>=2017.4.17 in /home/renegade/Dev/jupyter/notebookenv/lib/python3.11/site-packages (from requests<3,>=2.21.0->tensorflow) (2024.2.2)\n",
      "Requirement already satisfied: markdown>=2.6.8 in /home/renegade/Dev/jupyter/notebookenv/lib/python3.11/site-packages (from tensorboard<2.17,>=2.16->tensorflow) (3.6)\n",
      "Requirement already satisfied: tensorboard-data-server<0.8.0,>=0.7.0 in /home/renegade/Dev/jupyter/notebookenv/lib/python3.11/site-packages (from tensorboard<2.17,>=2.16->tensorflow) (0.7.2)\n",
      "Requirement already satisfied: werkzeug>=1.0.1 in /home/renegade/Dev/jupyter/notebookenv/lib/python3.11/site-packages (from tensorboard<2.17,>=2.16->tensorflow) (3.0.2)\n",
      "Requirement already satisfied: MarkupSafe>=2.1.1 in /home/renegade/Dev/jupyter/notebookenv/lib/python3.11/site-packages (from werkzeug>=1.0.1->tensorboard<2.17,>=2.16->tensorflow) (2.1.5)\n",
      "Requirement already satisfied: markdown-it-py>=2.2.0 in /home/renegade/Dev/jupyter/notebookenv/lib/python3.11/site-packages (from rich->keras>=3.0.0->tensorflow) (3.0.0)\n",
      "Requirement already satisfied: pygments<3.0.0,>=2.13.0 in /home/renegade/Dev/jupyter/notebookenv/lib/python3.11/site-packages (from rich->keras>=3.0.0->tensorflow) (2.17.2)\n",
      "Requirement already satisfied: mdurl~=0.1 in /home/renegade/Dev/jupyter/notebookenv/lib/python3.11/site-packages (from markdown-it-py>=2.2.0->rich->keras>=3.0.0->tensorflow) (0.1.2)\n",
      "Downloading tensorflow_io-0.37.0-cp311-cp311-manylinux_2_17_x86_64.manylinux2014_x86_64.whl (49.6 MB)\n",
      "\u001b[2K   \u001b[90m━━━━━━━━━━━━━━━━━━━━━━━━━━━━━━━━━━━━━━━━\u001b[0m \u001b[32m49.6/49.6 MB\u001b[0m \u001b[31m55.4 MB/s\u001b[0m eta \u001b[36m0:00:00\u001b[0m00:01\u001b[0m00:01\u001b[0m\n",
      "\u001b[?25hDownloading tensorflow_io_gcs_filesystem-0.37.0-cp311-cp311-manylinux_2_17_x86_64.manylinux2014_x86_64.whl (5.1 MB)\n",
      "\u001b[2K   \u001b[90m━━━━━━━━━━━━━━━━━━━━━━━━━━━━━━━━━━━━━━━━\u001b[0m \u001b[32m5.1/5.1 MB\u001b[0m \u001b[31m79.3 MB/s\u001b[0m eta \u001b[36m0:00:00\u001b[0ma \u001b[36m0:00:01\u001b[0m\n",
      "\u001b[?25hInstalling collected packages: tensorflow-io-gcs-filesystem, tensorflow-io\n",
      "  Attempting uninstall: tensorflow-io-gcs-filesystem\n",
      "    Found existing installation: tensorflow-io-gcs-filesystem 0.36.0\n",
      "    Uninstalling tensorflow-io-gcs-filesystem-0.36.0:\n",
      "      Successfully uninstalled tensorflow-io-gcs-filesystem-0.36.0\n",
      "  Attempting uninstall: tensorflow-io\n",
      "    Found existing installation: tensorflow-io 0.36.0\n",
      "    Uninstalling tensorflow-io-0.36.0:\n",
      "      Successfully uninstalled tensorflow-io-0.36.0\n",
      "Successfully installed tensorflow-io-0.37.0 tensorflow-io-gcs-filesystem-0.37.0\n",
      "Note: you may need to restart the kernel to use updated packages.\n"
     ]
    }
   ],
   "source": [
    "%pip install matplotlib tensorflow-io tensorflow --upgrade\n"
   ]
  },
  {
   "cell_type": "markdown",
   "id": "b3efd9ca-1dd2-4b90-b521-a93ff8d65481",
   "metadata": {},
   "source": [
    "## Import and Set Libraries"
   ]
  },
  {
   "cell_type": "code",
   "execution_count": 24,
   "id": "7242f209-e072-4416-acfa-8d147acb2f5c",
   "metadata": {
    "editable": true,
    "slideshow": {
     "slide_type": ""
    },
    "tags": []
   },
   "outputs": [],
   "source": [
    "import os\n",
    "import sys\n",
    "from matplotlib import pyplot as plt\n",
    "import tensorflow as tf\n",
    "import tensorflow_io as tfio\n",
    "\n",
    "os.environ['TF_CPP_MIN_LOG_LEVEL'] = '2'"
   ]
  },
  {
   "cell_type": "markdown",
   "id": "8167f288-5444-4635-9a2c-03dc0d225e51",
   "metadata": {},
   "source": [
    "## Define Paths to Files"
   ]
  },
  {
   "cell_type": "code",
   "execution_count": 18,
   "id": "24d6e450-5470-48d5-81db-ca24c8eac35b",
   "metadata": {},
   "outputs": [],
   "source": [
    "# Data we want to use as a specific, yes (1), this is a Kick\n",
    "KICK_FILE = os.path.join('data', 'parsed', 'Kicks', 'ALC_Kick_03.wav')\n",
    "# Data we want to use as a specific, NO (0), this is not a Kick\n",
    "NOT_KICK = os.path.join('data', 'parsed', 'Synth-plucks', 'Cymatics_-_Hybrid_Trap_Synth_One_Shot_3_-_E.wav')"
   ]
  },
  {
   "cell_type": "code",
   "execution_count": 19,
   "id": "7b977b8a-6c5f-4b0c-ac17-cde3efe70e8f",
   "metadata": {},
   "outputs": [
    {
     "data": {
      "text/plain": [
       "'data/parsed/Synth-plucks/Cymatics_-_Hybrid_Trap_Synth_One_Shot_3_-_E.wav'"
      ]
     },
     "execution_count": 19,
     "metadata": {},
     "output_type": "execute_result"
    }
   ],
   "source": [
    "NOT_KICK"
   ]
  },
  {
   "cell_type": "markdown",
   "id": "e3019177-0f7b-437c-8f9e-c441917b0513",
   "metadata": {},
   "source": [
    "# App starts:"
   ]
  },
  {
   "cell_type": "code",
   "execution_count": 20,
   "id": "f22c7a60-6fff-4d12-9d27-8d2f52f5d7e0",
   "metadata": {},
   "outputs": [],
   "source": [
    "def load_wav_16k_mono(filename):\n",
    "    # Load encoded wav file\n",
    "    file_contents = tf.io.read_file(filename)\n",
    "    # Decode WAV (Tensors by Channels)\n",
    "    wav, sample_rate = tf.audio.decode_wav(file_contents, desired_channels=1)\n",
    "    # Remove Trailing Axis\n",
    "    wav = tf.squeeze(wav, axis=-1)\n",
    "    sample_rate = tf.cast(sample_rate, dtype=tf.int64)\n",
    "    # Goes from 44.1Khz to 16Khz - Amplitude of Audio Signal\n",
    "    wav = tfio.audio.resample(wav, rate_in=sample_rate, rate_out=16000)\n",
    "    return wav\n",
    "    ### Can use tfio.audio.decode_wav(tf.io.read_file('24-bit.wav'), dtype=tf.int32)) for 24k files"
   ]
  },
  {
   "cell_type": "markdown",
   "id": "5696baf5-64eb-4737-aa8f-502df25625d8",
   "metadata": {},
   "source": [
    "### Plot WAVE"
   ]
  },
  {
   "cell_type": "code",
   "execution_count": 25,
   "id": "ad4d751a-5ff6-4f66-904a-12656547e130",
   "metadata": {},
   "outputs": [],
   "source": [
    "wave = load_wav_16k_mono(KICK_FILE)\n",
    "nwave = load_wav_16k_mono(NOT_KICK)"
   ]
  }
 ],
 "metadata": {
  "kernelspec": {
   "display_name": "audio-python3-kernel",
   "language": "python",
   "name": "audio-python3-kernel"
  },
  "language_info": {
   "codemirror_mode": {
    "name": "ipython",
    "version": 3
   },
   "file_extension": ".py",
   "mimetype": "text/x-python",
   "name": "python",
   "nbconvert_exporter": "python",
   "pygments_lexer": "ipython3",
   "version": "3.11.2"
  }
 },
 "nbformat": 4,
 "nbformat_minor": 5
}

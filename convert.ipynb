{
 "cells": [
  {
   "cell_type": "code",
   "execution_count": 1,
   "id": "ab8a27f7-ea7a-4635-b3c1-deeeffb7ae12",
   "metadata": {},
   "outputs": [],
   "source": [
    "###%pip install wave numpy pathlib"
   ]
  },
  {
   "cell_type": "code",
   "execution_count": 2,
   "id": "82a0738a-9e39-4a61-8be3-aa88f194d0ef",
   "metadata": {},
   "outputs": [],
   "source": [
    "import os\n",
    "import wave\n",
    "import numpy as np\n",
    "from pathlib import Path"
   ]
  },
  {
   "cell_type": "code",
   "execution_count": 3,
   "id": "0e4fb08f-76ae-47b9-bee4-235509fe5b54",
   "metadata": {},
   "outputs": [],
   "source": [
    "input_dir = 'data/unparsed'\n",
    "output_dir = 'data/parsed'"
   ]
  },
  {
   "cell_type": "code",
   "execution_count": 4,
   "id": "6f1702e9-c4cc-4cf7-96ba-260c9e3ca273",
   "metadata": {},
   "outputs": [],
   "source": [
    "def sanitize_filename(filename):\n",
    "    # Replace spaces and other problematic characters with underscores\n",
    "    return \"\".join(char if char.isalnum() or char in \"._-\" else \"_\" for char in filename)"
   ]
  },
  {
   "cell_type": "code",
   "execution_count": 5,
   "id": "2019d05a-6193-4999-9e6b-ed6c196c893e",
   "metadata": {},
   "outputs": [],
   "source": [
    "def read_wav(filename):\n",
    "    with wave.open(filename, 'rb') as wav:\n",
    "        params = wav.getparams()\n",
    "        frames = wav.readframes(params.nframes)\n",
    "        if params.sampwidth == 3:\n",
    "            # Read frames as bytes, then convert to 32-bit integers for processing\n",
    "            audio = np.frombuffer(frames, dtype=np.uint8)\n",
    "            # Assuming little endian byte order\n",
    "            audio = audio.reshape(-1, 3)\n",
    "            audio = audio[:, 0] + (audio[:, 1] << 8) + (audio[:, 2] << 16)\n",
    "            audio = audio.astype(np.int32)\n",
    "            # Adjust for 24-bit signed format\n",
    "            audio[audio >= 0x800000] -= 0x1000000\n",
    "        else:\n",
    "            audio = np.frombuffer(frames, dtype=np.int16)\n",
    "    return audio, params\n",
    "\n",
    "def convert_to_16bit(audio):\n",
    "    # Shift right by 8 bits to convert from 24-bit to 16-bit\n",
    "    return (audio >> 8).astype(np.int16)\n",
    "\n",
    "def save_wav(audio, params, filename):\n",
    "    os.makedirs(os.path.dirname(filename), exist_ok=True)\n",
    "    with wave.open(filename, 'wb') as wav:\n",
    "        # Adjust the parameters for 16-bit audio\n",
    "        new_params = wave._wave_params(params.nchannels, 2, params.framerate, len(audio), 'NONE', 'not compressed')\n",
    "        wav.setparams(new_params)\n",
    "        wav.writeframes(audio.tobytes())"
   ]
  },
  {
   "cell_type": "code",
   "execution_count": 6,
   "id": "3b3105c7-10cd-453d-a66b-d236ceff0637",
   "metadata": {},
   "outputs": [],
   "source": [
    "def process_wav_file(input_filename, output_filename):\n",
    "    audio, params = read_wav(input_filename)\n",
    "    if params.sampwidth == 3:  # Check if it's 24-bit audio\n",
    "        audio = convert_to_16bit(audio)\n",
    "        save_wav(audio, params, output_filename)\n",
    "        print(f\"Converted and saved: {output_filename}\")\n",
    "    else:\n",
    "        print(f\"No conversion needed for: {output_filename}\")"
   ]
  },
  {
   "cell_type": "code",
   "execution_count": 7,
   "id": "01545ec7-b6c2-4bef-8f9e-d846de316169",
   "metadata": {},
   "outputs": [],
   "source": [
    "def process_directory(input_dir, output_dir):\n",
    "    input_path = Path(input_dir)\n",
    "    for wav_file in input_path.rglob('*.wav'):\n",
    "        relative_path = wav_file.relative_to(input_path)\n",
    "        sanitized_relative_path = Path(*[sanitize_filename(part) for part in relative_path.parts])\n",
    "        output_path = Path(output_dir) / sanitized_relative_path\n",
    "        process_wav_file(str(wav_file), str(output_path))"
   ]
  },
  {
   "cell_type": "code",
   "execution_count": 8,
   "id": "12c97ee5-72b1-4820-82e9-1e887c499df7",
   "metadata": {},
   "outputs": [
    {
     "name": "stdout",
     "output_type": "stream",
     "text": [
      "No conversion needed for: data/parsed/Snares/Dead_Snare_Classic__8_.wav\n",
      "Converted and saved: data/parsed/Snares/ALC_Snare_01.wav\n",
      "Converted and saved: data/parsed/Snares/ALC_Snare_03.wav\n",
      "Converted and saved: data/parsed/Snares/Snare_1.wav\n",
      "Converted and saved: data/parsed/Snares/ALC_Snare_10.wav\n",
      "No conversion needed for: data/parsed/Snares/Dead_Snare_Classic__3_.wav\n",
      "Converted and saved: data/parsed/Snares/OS_CES_Snare_2.wav\n",
      "Converted and saved: data/parsed/Snares/ALC_Snare_05.wav\n",
      "Converted and saved: data/parsed/Snares/SD_extra_Snare9.wav\n",
      "Converted and saved: data/parsed/Snares/SD_extra_Snare2.wav\n",
      "Converted and saved: data/parsed/Kicks/Kick_9_-_4A.wav\n",
      "Converted and saved: data/parsed/Kicks/ALC_Kick_05.wav\n",
      "Converted and saved: data/parsed/Kicks/Synth_Kick_4_-_4A_-_158.wav\n",
      "No conversion needed for: data/parsed/Kicks/Diplo_Kicks__31__-_5A_-_158.wav\n",
      "No conversion needed for: data/parsed/Kicks/Diplo_Kicks__13__-_2A_-_89.wav\n",
      "Converted and saved: data/parsed/Kicks/ALC_Kick_03.wav\n",
      "Converted and saved: data/parsed/Kicks/Synth_Kick_1.wav\n",
      "Converted and saved: data/parsed/Kicks/Kick_2_-_9A.wav\n",
      "Converted and saved: data/parsed/Kicks/CAP_kick_fresh_face.wav\n",
      "Converted and saved: data/parsed/Kicks/CAP_kick_rocku_950.wav\n",
      "No conversion needed for: data/parsed/Synth-plucks/130_-_5A_-_spirity.wav\n",
      "Converted and saved: data/parsed/Synth-plucks/SS_TT_Synth_Stab_24.wav\n",
      "No conversion needed for: data/parsed/Synth-plucks/Synth_note_10_A.wav\n",
      "Converted and saved: data/parsed/Synth-plucks/Cymatics_-_Hybrid_Trap_Synth_One_Shot_3_-_E.wav\n",
      "No conversion needed for: data/parsed/Synth-plucks/109_-_6A_-_harpy.wav\n",
      "No conversion needed for: data/parsed/Synth-plucks/SH-09_Note_6_Blip_D.wav\n",
      "No conversion needed for: data/parsed/Synth-plucks/158_-_10A_-_strapp.wav\n",
      "Converted and saved: data/parsed/Synth-plucks/TT_synth_ultra_synth_beam.wav\n",
      "Converted and saved: data/parsed/Synth-plucks/TT_synth_limbo_piano.wav\n",
      "Converted and saved: data/parsed/Synth-plucks/TT_synth_v_simple.wav\n"
     ]
    }
   ],
   "source": [
    "process_directory(input_dir, output_dir)"
   ]
  }
 ],
 "metadata": {
  "kernelspec": {
   "display_name": "audio-python3-kernel",
   "language": "python",
   "name": "audio-python3-kernel"
  },
  "language_info": {
   "codemirror_mode": {
    "name": "ipython",
    "version": 3
   },
   "file_extension": ".py",
   "mimetype": "text/x-python",
   "name": "python",
   "nbconvert_exporter": "python",
   "pygments_lexer": "ipython3",
   "version": "3.11.2"
  }
 },
 "nbformat": 4,
 "nbformat_minor": 5
}

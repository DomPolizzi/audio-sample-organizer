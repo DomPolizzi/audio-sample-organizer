{
 "cells": [
  {
   "cell_type": "code",
   "execution_count": 1,
   "id": "ab8a27f7-ea7a-4635-b3c1-deeeffb7ae12",
   "metadata": {},
   "outputs": [],
   "source": [
    "###%pip install wave numpy pathlib"
   ]
  },
  {
   "cell_type": "code",
   "execution_count": 2,
   "id": "82a0738a-9e39-4a61-8be3-aa88f194d0ef",
   "metadata": {},
   "outputs": [],
   "source": [
    "import os\n",
    "import wave\n",
    "import numpy as np\n",
    "from pathlib import Path"
   ]
  },
  {
   "cell_type": "code",
   "execution_count": 3,
   "id": "6f1702e9-c4cc-4cf7-96ba-260c9e3ca273",
   "metadata": {},
   "outputs": [],
   "source": [
    "def sanitize_filename(filename):\n",
    "    # Replace spaces with underscores and remove other problematic characters if necessary\n",
    "    sanitized = \"\".join(char if char.isalnum() or char in \"._-\" else \"_\" for char in filename)\n",
    "    return sanitized if sanitized else \"default_filename\""
   ]
  },
  {
   "cell_type": "code",
   "execution_count": 4,
   "id": "2019d05a-6193-4999-9e6b-ed6c196c893e",
   "metadata": {},
   "outputs": [],
   "source": [
    "def read_wav(filename):\n",
    "    with wave.open(filename, 'r') as wav:\n",
    "        n_frames = wav.getnframes()\n",
    "        audio_bytes = wav.readframes(n_frames)\n",
    "        if wav.getsampwidth() == 3:  # 24-bit audio\n",
    "            # Convert byte data to 24-bit integers\n",
    "            audio = np.frombuffer(audio_bytes, dtype=np.uint8).reshape(-1, 3)\n",
    "            audio = audio[:, 0] + (audio[:, 1] << 8) + (audio[:, 2] << 16)\n",
    "            if audio.max() > 0x7FFFFF:  # Adjusting sign if needed\n",
    "                audio = audio - 0x1000000\n",
    "        else:  # Other bit depths, directly compatible\n",
    "            audio = np.frombuffer(audio_bytes, dtype=np.int16)\n",
    "    return audio, wav.getparams()\n",
    "\n",
    "def convert_to_16bit(audio, params):\n",
    "    # Right shift to go from 24-bit to 16-bit\n",
    "    audio = (audio >> 8).astype(np.int16)\n",
    "    return audio\n",
    "\n",
    "def save_wav(audio, params, filename):\n",
    "###    filename = sanitize_filename(filename)\n",
    "    os.makedirs(os.path.dirname(filename), exist_ok=True)\n",
    "    with wave.open(filename, 'w') as wav:\n",
    "        wav.setparams(params)\n",
    "        wav.writeframes(audio.tobytes())"
   ]
  },
  {
   "cell_type": "code",
   "execution_count": 5,
   "id": "3b3105c7-10cd-453d-a66b-d236ceff0637",
   "metadata": {},
   "outputs": [],
   "source": [
    "def process_wav_file(input_filename, output_filename):\n",
    "    audio, params = read_wav(input_filename)\n",
    "    if params.sampwidth == 3:  # 24-bit audio\n",
    "        audio = convert_to_16bit(audio, params)\n",
    "        # Update parameters for 16-bit\n",
    "        new_params = wave._wave_params(params.nchannels, 2, params.framerate, params.nframes, params.comptype, params.compname)\n",
    "        save_wav(audio, new_params, output_filename)\n",
    "        print(f\"Converted {input_filename} to 16-bit and saved as {output_filename}\")\n",
    "    else:\n",
    "        print(f\"{input_filename} is not a 24-bit file, no conversion necessary\")"
   ]
  },
  {
   "cell_type": "code",
   "execution_count": 9,
   "id": "01545ec7-b6c2-4bef-8f9e-d846de316169",
   "metadata": {},
   "outputs": [],
   "source": [
    "def process_directory(input_dir, output_dir):\n",
    "    input_path = Path(input_dir)\n",
    "    for wav_file in input_path.rglob('*.wav'):\n",
    "        relative_path = wav_file.relative_to(input_path)\n",
    "        sanitized_relative_path = Path(*[sanitize_filename(part) for part in relative_path.parts])\n",
    "        output_path = Path(output_dir) / sanitized_relative_path\n",
    "        process_wav_file(str(wav_file), str(output_path))"
   ]
  },
  {
   "cell_type": "code",
   "execution_count": 10,
   "id": "12c97ee5-72b1-4820-82e9-1e887c499df7",
   "metadata": {},
   "outputs": [
    {
     "name": "stdout",
     "output_type": "stream",
     "text": [
      "audio-sample-organizer/data/unparsed/Snares/Dead_Snare_Classic (8).wav is not a 24-bit file, no conversion necessary\n",
      "Converted audio-sample-organizer/data/unparsed/Snares/ALC_Snare_01.wav to 16-bit and saved as audio-sample-organizer/data/parsed/Snares/ALC_Snare_01.wav\n",
      "Converted audio-sample-organizer/data/unparsed/Snares/ALC_Snare_03.wav to 16-bit and saved as audio-sample-organizer/data/parsed/Snares/ALC_Snare_03.wav\n",
      "Converted audio-sample-organizer/data/unparsed/Snares/Snare 1.wav to 16-bit and saved as audio-sample-organizer/data/parsed/Snares/Snare_1.wav\n",
      "Converted audio-sample-organizer/data/unparsed/Snares/ALC_Snare_10.wav to 16-bit and saved as audio-sample-organizer/data/parsed/Snares/ALC_Snare_10.wav\n",
      "audio-sample-organizer/data/unparsed/Snares/Dead_Snare_Classic (3).wav is not a 24-bit file, no conversion necessary\n",
      "Converted audio-sample-organizer/data/unparsed/Snares/OS_CES_Snare 2.wav to 16-bit and saved as audio-sample-organizer/data/parsed/Snares/OS_CES_Snare_2.wav\n",
      "Converted audio-sample-organizer/data/unparsed/Snares/ALC_Snare_05.wav to 16-bit and saved as audio-sample-organizer/data/parsed/Snares/ALC_Snare_05.wav\n",
      "Converted audio-sample-organizer/data/unparsed/Snares/SD_extra_Snare9.wav to 16-bit and saved as audio-sample-organizer/data/parsed/Snares/SD_extra_Snare9.wav\n",
      "Converted audio-sample-organizer/data/unparsed/Snares/SD_extra_Snare2.wav to 16-bit and saved as audio-sample-organizer/data/parsed/Snares/SD_extra_Snare2.wav\n",
      "Converted audio-sample-organizer/data/unparsed/Kicks/Kick 9 - 4A.wav to 16-bit and saved as audio-sample-organizer/data/parsed/Kicks/Kick_9_-_4A.wav\n",
      "Converted audio-sample-organizer/data/unparsed/Kicks/ALC_Kick_05.wav to 16-bit and saved as audio-sample-organizer/data/parsed/Kicks/ALC_Kick_05.wav\n",
      "Converted audio-sample-organizer/data/unparsed/Kicks/Synth Kick 4 - 4A - 158.wav to 16-bit and saved as audio-sample-organizer/data/parsed/Kicks/Synth_Kick_4_-_4A_-_158.wav\n",
      "audio-sample-organizer/data/unparsed/Kicks/Diplo_Kicks (31) - 5A - 158.wav is not a 24-bit file, no conversion necessary\n",
      "audio-sample-organizer/data/unparsed/Kicks/Diplo_Kicks (13) - 2A - 89.wav is not a 24-bit file, no conversion necessary\n",
      "Converted audio-sample-organizer/data/unparsed/Kicks/ALC_Kick_03.wav to 16-bit and saved as audio-sample-organizer/data/parsed/Kicks/ALC_Kick_03.wav\n",
      "Converted audio-sample-organizer/data/unparsed/Kicks/Synth Kick 1.wav to 16-bit and saved as audio-sample-organizer/data/parsed/Kicks/Synth_Kick_1.wav\n",
      "Converted audio-sample-organizer/data/unparsed/Kicks/Kick 2 - 9A.wav to 16-bit and saved as audio-sample-organizer/data/parsed/Kicks/Kick_2_-_9A.wav\n",
      "Converted audio-sample-organizer/data/unparsed/Kicks/CAP_kick_fresh_face.wav to 16-bit and saved as audio-sample-organizer/data/parsed/Kicks/CAP_kick_fresh_face.wav\n",
      "Converted audio-sample-organizer/data/unparsed/Kicks/CAP_kick_rocku_950.wav to 16-bit and saved as audio-sample-organizer/data/parsed/Kicks/CAP_kick_rocku_950.wav\n",
      "audio-sample-organizer/data/unparsed/Synth-plucks/130 - 5A - spirity.wav is not a 24-bit file, no conversion necessary\n",
      "Converted audio-sample-organizer/data/unparsed/Synth-plucks/SS_TT_Synth_Stab_24.wav to 16-bit and saved as audio-sample-organizer/data/parsed/Synth-plucks/SS_TT_Synth_Stab_24.wav\n",
      "audio-sample-organizer/data/unparsed/Synth-plucks/Synth note 10 A.wav is not a 24-bit file, no conversion necessary\n",
      "Converted audio-sample-organizer/data/unparsed/Synth-plucks/Cymatics - Hybrid Trap Synth One Shot 3 - E.wav to 16-bit and saved as audio-sample-organizer/data/parsed/Synth-plucks/Cymatics_-_Hybrid_Trap_Synth_One_Shot_3_-_E.wav\n",
      "audio-sample-organizer/data/unparsed/Synth-plucks/109 - 6A - harpy.wav is not a 24-bit file, no conversion necessary\n",
      "audio-sample-organizer/data/unparsed/Synth-plucks/SH-09 Note 6 Blip D.wav is not a 24-bit file, no conversion necessary\n",
      "audio-sample-organizer/data/unparsed/Synth-plucks/158 - 10A - strapp.wav is not a 24-bit file, no conversion necessary\n",
      "Converted audio-sample-organizer/data/unparsed/Synth-plucks/TT_synth_ultra_synth_beam.wav to 16-bit and saved as audio-sample-organizer/data/parsed/Synth-plucks/TT_synth_ultra_synth_beam.wav\n",
      "Converted audio-sample-organizer/data/unparsed/Synth-plucks/TT_synth_limbo_piano.wav to 16-bit and saved as audio-sample-organizer/data/parsed/Synth-plucks/TT_synth_limbo_piano.wav\n",
      "Converted audio-sample-organizer/data/unparsed/Synth-plucks/TT_synth_v_simple.wav to 16-bit and saved as audio-sample-organizer/data/parsed/Synth-plucks/TT_synth_v_simple.wav\n"
     ]
    }
   ],
   "source": [
    "input_dir = 'audio-sample-organizer/data/unparsed'\n",
    "output_dir = 'audio-sample-organizer/data/parsed'\n",
    "process_directory(input_dir, output_dir)"
   ]
  }
 ],
 "metadata": {
  "kernelspec": {
   "display_name": "audio-python3-kernel",
   "language": "python",
   "name": "audio-python3-kernel"
  },
  "language_info": {
   "codemirror_mode": {
    "name": "ipython",
    "version": 3
   },
   "file_extension": ".py",
   "mimetype": "text/x-python",
   "name": "python",
   "nbconvert_exporter": "python",
   "pygments_lexer": "ipython3",
   "version": "3.11.2"
  }
 },
 "nbformat": 4,
 "nbformat_minor": 5
}
